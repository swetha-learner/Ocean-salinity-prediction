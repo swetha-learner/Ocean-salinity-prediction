{
 "cells": [
  {
   "cell_type": "code",
   "execution_count": 1,
   "metadata": {},
   "outputs": [],
   "source": [
    "import requests\n",
    "\n",
    "# Paste your Watson Machine Learning service apikey here\n",
    "# Use the rest of the code sample as written\n",
    "apikey = \"NViETBezF3o3af6trX-Nh3wXWXQayBXjmADIzcm1CErc\"\n",
    "\n",
    "# Get an IAM token from IBM Cloud\n",
    "url     = \"https://iam.bluemix.net/oidc/token\"\n",
    "headers = { \"Content-Type\" : \"application/x-www-form-urlencoded\" }\n",
    "data    = \"apikey=\" + apikey + \"&grant_type=urn:ibm:params:oauth:grant-type:apikey\"\n",
    "IBM_cloud_IAM_uid = \"bx\"\n",
    "IBM_cloud_IAM_pwd = \"bx\"\n",
    "response  = requests.post( url, headers=headers, data=data, auth=( IBM_cloud_IAM_uid, IBM_cloud_IAM_pwd ) )\n",
    "iam_token = response.json()[\"access_token\"]"
   ]
  },
  {
   "cell_type": "code",
   "execution_count": 2,
   "metadata": {},
   "outputs": [
    {
     "data": {
      "text/plain": [
       "'eyJraWQiOiIyMDIwMDcyNDE4MzEiLCJhbGciOiJSUzI1NiJ9.eyJpYW1faWQiOiJpYW0tU2VydmljZUlkLTRiYmZjNzJlLTMyMTAtNDFkMC1iMDI3LWI0MTY1M2M2YjRlNyIsImlkIjoiaWFtLVNlcnZpY2VJZC00YmJmYzcyZS0zMjEwLTQxZDAtYjAyNy1iNDE2NTNjNmI0ZTciLCJyZWFsbWlkIjoiaWFtIiwiaWRlbnRpZmllciI6IlNlcnZpY2VJZC00YmJmYzcyZS0zMjEwLTQxZDAtYjAyNy1iNDE2NTNjNmI0ZTciLCJuYW1lIjoid2RwLXdyaXRlciIsInN1YiI6IlNlcnZpY2VJZC00YmJmYzcyZS0zMjEwLTQxZDAtYjAyNy1iNDE2NTNjNmI0ZTciLCJzdWJfdHlwZSI6IlNlcnZpY2VJZCIsImFjY291bnQiOnsidmFsaWQiOnRydWUsImJzcyI6IjlkZWU5YmM0ZTIyMTRmOTA4Y2E5MmUyMGNjODk1ZDk4IiwiZnJvemVuIjp0cnVlfSwiaWF0IjoxNTk4MDE3NDM1LCJleHAiOjE1OTgwMjEwMzUsImlzcyI6Imh0dHBzOi8vaWFtLm5nLmJsdWVtaXgubmV0L29pZGMvdG9rZW4iLCJncmFudF90eXBlIjoidXJuOmlibTpwYXJhbXM6b2F1dGg6Z3JhbnQtdHlwZTphcGlrZXkiLCJzY29wZSI6ImlibSBvcGVuaWQiLCJjbGllbnRfaWQiOiJieCIsImFjciI6MSwiYW1yIjpbInB3ZCJdfQ.IMSPdSfwVbK8Ln7hGMhIaukuh3rKLlZKa_nE82tTpacXwY9vJoZZo1SuBWZWYpVIJvSITAIoscP8GYKN_MuKx5WghJW6ZBwGTJpIlJET_p1ld3uAXNpQyC88_FqtOZIJafuCigvWeq3scZU0eEh-0syvys2tJuFNUKWqDQlUZGiIFqOoYKGaJI7UadVkv_msy0ZQxlacM759DFDzw51vppz8ZRkUvPeg2FO6xf8TEZVbWhqwwr-Y_D6DpJn5j3AB9jUHxG5cS-TaY986pL2Ot12iecaBNoCayLql62dXoagPmAJRJn58_BSOzVs5nrumOSyWCxjg_Fv6LXO3SeoK6A'"
      ]
     },
     "execution_count": 2,
     "metadata": {},
     "output_type": "execute_result"
    }
   ],
   "source": [
    "iam_token"
   ]
  },
  {
   "cell_type": "code",
   "execution_count": 3,
   "metadata": {},
   "outputs": [],
   "source": [
    "ml_instance_id = \"36a38eab-1780-46b2-bbbb-3692afc19ace\""
   ]
  },
  {
   "cell_type": "code",
   "execution_count": 5,
   "metadata": {},
   "outputs": [
    {
     "name": "stdout",
     "output_type": "stream",
     "text": [
      "Scoring response\n",
      "{'predictions': [{'fields': ['prediction'], 'values': [[30.661840438842773], [31.66668701171875], [33.787986755371094]]}]}\n"
     ]
    }
   ],
   "source": [
    "import urllib3, requests, json\n",
    "\n",
    "# NOTE: generate iam_token and retrieve ml_instance_id based on provided documentation\t\n",
    "header = {'Content-Type': 'application/json', 'Authorization': 'Bearer ' + iam_token, 'ML-Instance-ID': ml_instance_id}\n",
    "\n",
    "# NOTE: manually define and pass the array(s) of values to be scored in the next line\n",
    "payload_scoring = {\"input_data\": [{\"fields\": [\"T_degC\"], \"values\": [[0],[1],[2]]}]}\n",
    "\n",
    "response_scoring = requests.post('https://eu-gb.ml.cloud.ibm.com/v4/deployments/7aa29c18-79db-4b47-a5fd-5b036af17f6d/predictions', json=payload_scoring, headers=header)\n",
    "print(\"Scoring response\")\n",
    "print(json.loads(response_scoring.text))"
   ]
  },
  {
   "cell_type": "code",
   "execution_count": null,
   "metadata": {},
   "outputs": [],
   "source": [
    "temp = range(10)"
   ]
  }
 ],
 "metadata": {
  "kernelspec": {
   "display_name": "Python 3",
   "language": "python",
   "name": "python3"
  },
  "language_info": {
   "codemirror_mode": {
    "name": "ipython",
    "version": 3
   },
   "file_extension": ".py",
   "mimetype": "text/x-python",
   "name": "python",
   "nbconvert_exporter": "python",
   "pygments_lexer": "ipython3",
   "version": "3.8.5"
  }
 },
 "nbformat": 4,
 "nbformat_minor": 4
}
